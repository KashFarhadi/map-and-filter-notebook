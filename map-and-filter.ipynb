{
 "cells": [
  {
   "cell_type": "markdown",
   "metadata": {},
   "source": [
    "<table align=center width=\"600\" height=\"144\" style=\"height: 67px; width: 575px;\">\n",
    "<tbody>\n",
    "<tr>\n",
    "<td width=82><img src=\"https://imgur.com/NshEBH4.png\" /></td>\n",
    "<td style=\"width: 422px; height: 67px;\">\n",
    "<h1 style=\"text-align: left;\">Lambda Expressions, Map and Filter (Python 2 Notebook)</h1>\n",
    "<p><a href=\"https://colab.research.google.com/github/KashFarhadi/map-and-filter-notebook/blob/master/map-and-filter.ipynb\"> <img src=\"https://colab.research.google.com/assets/colab-badge.svg\" alt=\"Open In Colab\" align=\"left\" width=\"188\" height=\"32\" /> </a></p>\n",
    "</td>\n",
    "</tr>\n",
    "</tbody>\n",
    "</table> "
   ]
  },
  {
   "cell_type": "markdown",
   "metadata": {},
   "source": [
    "## Lambda Expressions (or Functions)\n",
    "\n",
    "Lambda expressions allow a function to be created and passed around all in one line of code. <br>\n",
    "They are hard to understand at first and are easy to overuse later on.\n",
    "\n",
    "A lambda expression is an anonymous, inline declaration of a function. It's just like a regular function, except it can't be called outside of the line where it was defined.\n",
    "\n",
    "\n",
    "#### Pros\n",
    "+ Anonymous: can be easily passed without being assigned to a variable.\n",
    "+ They are inline functions and thus execute comparatively faster.\n",
    "+ Can make code much more readable by avoiding the logical jumps caused by function calls. <br>\n",
    "\n",
    "#### Pro & Con: \n",
    "+ Can only have a single line of code.\n",
    "\n",
    "#### Cons\n",
    "- Lambda functions can have only one expression.\n",
    "- Lambda functions cannot have a docstring.\n",
    "- Many times lambda functions make code difficult to read."
   ]
  },
  {
   "cell_type": "markdown",
   "metadata": {},
   "source": [
    "##### Lambda Example 1: Basic lambda function compared to a standard function declaration"
   ]
  },
  {
   "cell_type": "code",
   "execution_count": null,
   "metadata": {},
   "outputs": [],
   "source": [
    "# A regular, imperative function declaration\n",
    "def twice(x):\n",
    "    return 2*x\n",
    "%timeit twice(5) \n",
    "twice(5)"
   ]
  },
  {
   "cell_type": "code",
   "execution_count": null,
   "metadata": {},
   "outputs": [],
   "source": [
    "### Declaration assigning a lambda (usually bad practice)\n",
    "\n",
    "double = lambda x: 2*x\n",
    "%timeit double(5)\n",
    "double(5)"
   ]
  },
  {
   "cell_type": "markdown",
   "metadata": {},
   "source": [
    "Do this:"
   ]
  },
  {
   "cell_type": "code",
   "execution_count": null,
   "metadata": {},
   "outputs": [],
   "source": [
    "def func(x, y, z):\n",
    "    return x*y + z "
   ]
  },
  {
   "cell_type": "markdown",
   "metadata": {},
   "source": [
    "Don't do this:"
   ]
  },
  {
   "cell_type": "code",
   "execution_count": null,
   "metadata": {},
   "outputs": [],
   "source": [
    "func = lambda x, y, z: x*y + z"
   ]
  },
  {
   "cell_type": "markdown",
   "metadata": {},
   "source": [
    "### Real Life Application: Useful for for sorting keys\n",
    "\n",
    "##### Lambda Example 2: Sorting a list of tuples by the second index of each tuple"
   ]
  },
  {
   "cell_type": "code",
   "execution_count": null,
   "metadata": {},
   "outputs": [],
   "source": [
    "mylist = [(3, 5, 8), (6, 2, 8), ( 2, 9, 4), (6, 8, 5)]\n",
    "sorted(mylist, key=lambda x: x[1])"
   ]
  },
  {
   "cell_type": "markdown",
   "metadata": {},
   "source": [
    "### Key Takeaways\n",
    "- Lambdas are useful when you want to define a one-off function.<br>\n",
    "    - A function that you will only use once in your program.\n",
    "\n",
    "- They are often overused and removing them will improve your code's readability\n",
    "- If a function is important, it deserves a name. \n",
    "\n",
    "***\n"
   ]
  },
  {
   "cell_type": "markdown",
   "metadata": {},
   "source": [
    "## The Filter Function\n",
    "\n",
    "The filter function is used to filter an array and return a new array that meets your criteria.\n",
    "\n",
    "The filter function  takes a function and a sequence as arguments and returns an iterable, only yielding the items in sequence for which function returns True.\n",
    "\n",
    "##### Filter Example 1: Using a lambda function to filter out even values in a list"
   ]
  },
  {
   "cell_type": "code",
   "execution_count": null,
   "metadata": {},
   "outputs": [],
   "source": [
    "li = [5, 7, 22, 97, 54, 62, 77, 23, 73, 61] \n",
    "\n",
    "# filters out all list items not divisible by 2\n",
    "final_list = list(filter(lambda x: x%2, li))\n",
    "print(final_list)"
   ]
  },
  {
   "cell_type": "markdown",
   "metadata": {},
   "source": [
    "Filter returns a Generator Object (in this case a filter object) <br>\n",
    "Wrapping it into a list reveals it is equivalent to using a List Comprehension with a conditional"
   ]
  },
  {
   "cell_type": "code",
   "execution_count": null,
   "metadata": {},
   "outputs": [],
   "source": [
    "[x for x in li if x%2]"
   ]
  },
  {
   "cell_type": "markdown",
   "metadata": {},
   "source": [
    "Isn't the list comprehension above much more readable?"
   ]
  },
  {
   "cell_type": "markdown",
   "metadata": {},
   "source": [
    "##### Filter Example 2: Using filter and lambda to find palindromes in a list of strings using join and reversed"
   ]
  },
  {
   "cell_type": "code",
   "execution_count": null,
   "metadata": {},
   "outputs": [],
   "source": [
    "my_list = [\"geeks\", \"geeg\", \"keek\", \"practice\", \"aa\"] \n",
    "\n",
    "# Need to use .join to combine individual list items into a string after reversed\n",
    "result = list(filter(lambda x: (x == \"\".join(reversed(x))), my_list))  \n",
    "print(result)  \n"
   ]
  },
  {
   "cell_type": "markdown",
   "metadata": {},
   "source": [
    "##### Filter Example 3: Using filter and lambda to find palindromes in a list of strings using slice notation"
   ]
  },
  {
   "cell_type": "code",
   "execution_count": null,
   "metadata": {},
   "outputs": [],
   "source": [
    "better_result = list(filter(lambda x: x == x[::-1], my_list))\n",
    "print(better_result)  "
   ]
  },
  {
   "cell_type": "markdown",
   "metadata": {},
   "source": [
    "## The Map Function\n",
    "\n",
    "- Takes at least one function and an iterable as an argument and returns a new list that contains the list after being modified by the function.\n",
    "\n",
    "\n",
    "- In Python 2.7, Map returns a normal list.\n",
    "\n",
    "\n",
    "- In Python 3, applying map on a list will return a Generator! That  means it will generate a sequence that can be iterated on and must be cast into a list in order to be sliced or indexed."
   ]
  },
  {
   "cell_type": "markdown",
   "metadata": {},
   "source": [
    "##### Map Example 1: mapping with a lambda function"
   ]
  },
  {
   "cell_type": "code",
   "execution_count": null,
   "metadata": {},
   "outputs": [],
   "source": [
    "li = [5, 7, 22, 97, 54, 62, 77, 23, 73, 61] \n",
    "final_list = map(lambda x: x*2 , li)\n",
    "print final_list"
   ]
  },
  {
   "cell_type": "markdown",
   "metadata": {},
   "source": [
    "##### Map Example 2: getting identical output using map, lambda, and list comprehensions"
   ]
  },
  {
   "cell_type": "code",
   "execution_count": null,
   "metadata": {},
   "outputs": [],
   "source": [
    "def triple(a):\n",
    "    return 3*a\n",
    "\n",
    "thrice = lambda x: 3*x\n",
    "\n",
    "these = [triple(i) for i in range(5) ]\n",
    "print these\n",
    "\n",
    "are = [(lambda x: 3*x)(i) for i in range(5) ]\n",
    "print are\n",
    "\n",
    "all = [thrice(i) for i in range(5) ]\n",
    "print all\n",
    "\n",
    "# can pass in thrice and triple functions since map is a higher order function\n",
    "the = map(thrice, range(5))\n",
    "print the\n",
    "\n",
    "#http://localhost:8888/notebooks/Banging-Backend/Map%20and%20Filter.ipynb\n",
    "same = map(triple, range(5))\n",
    "print same"
   ]
  },
  {
   "cell_type": "markdown",
   "metadata": {},
   "source": [
    "##### Map Example 4 :"
   ]
  },
  {
   "cell_type": "code",
   "execution_count": null,
   "metadata": {},
   "outputs": [],
   "source": [
    "import math\n",
    "\n",
    "def area(r):\n",
    "    \"\"\"Area of a cicle with radius 'r'.\"\"\"\n",
    "    return math.pi * (r**2)"
   ]
  },
  {
   "cell_type": "code",
   "execution_count": null,
   "metadata": {},
   "outputs": [],
   "source": [
    "radii = [2, 5, 7.1, .3, 10]"
   ]
  },
  {
   "cell_type": "markdown",
   "metadata": {},
   "source": [
    "##### Method 1: Calculating areas of a list of radii without a map function"
   ]
  },
  {
   "cell_type": "code",
   "execution_count": null,
   "metadata": {},
   "outputs": [],
   "source": [
    "areas = []\n",
    "for r in radii:\n",
    "    a = area(r)\n",
    "    areas.append(a)\n",
    "areas"
   ]
  },
  {
   "cell_type": "markdown",
   "metadata": {},
   "source": [
    "##### Method 2: Calculating areas using a map function"
   ]
  },
  {
   "cell_type": "code",
   "execution_count": null,
   "metadata": {},
   "outputs": [],
   "source": [
    "map(area,radii)"
   ]
  },
  {
   "cell_type": "markdown",
   "metadata": {},
   "source": [
    "Using the map function here is certainly more readablable\n",
    "***"
   ]
  },
  {
   "cell_type": "markdown",
   "metadata": {},
   "source": [
    "### Comparing them with list comprehensions\n",
    "#### Using lambda expressions with map and filter"
   ]
  },
  {
   "cell_type": "code",
   "execution_count": null,
   "metadata": {},
   "outputs": [],
   "source": [
    "nums = [0, 1, 2, 3, 4, 5]\n",
    "mapped = map(lambda x: x * x, nums)\n",
    "\n",
    "# Can also put conditionals in your generator below\n",
    "no_mapped = (x * x for x in nums)\n",
    "\n",
    "print(list(mapped)) \n",
    "print(list(no_mapped)) \n"
   ]
  },
  {
   "cell_type": "markdown",
   "metadata": {},
   "source": [
    "####  Generator expressions for similar results"
   ]
  },
  {
   "cell_type": "code",
   "execution_count": null,
   "metadata": {},
   "outputs": [],
   "source": [
    "no_filtered = (x for x in nums if x % 2 == 1)\n",
    "filtered = filter(lambda x: x % 2, nums)\n",
    "\n",
    "print(list(filtered))\n",
    "print(list(no_filtered)) "
   ]
  },
  {
   "cell_type": "markdown",
   "metadata": {},
   "source": [
    "***\n",
    "## Takeaways of map and filter\n",
    "\n",
    "    + Arguably elegant, redable and can beautify your code.\n",
    "    + More readable when used with a function declaration\n",
    "    - Less readable when used with a lambda function"
   ]
  },
  {
   "cell_type": "markdown",
   "metadata": {},
   "source": [
    "Lambdas, map and filter functions are powerful but often overused tools. At the end of the day, it's up to the developer and their firm to decide what they consider more readable and stay consistent with their design patterns. It is important to be familiar with them as you will see them in other developers code. Thank you for your time."
   ]
  }
 ],
 "metadata": {
  "kernelspec": {
   "display_name": "Python 2",
   "language": "python",
   "name": "python2"
  },
  "language_info": {
   "codemirror_mode": {
    "name": "ipython",
    "version": 2
   },
   "file_extension": ".py",
   "mimetype": "text/x-python",
   "name": "python",
   "nbconvert_exporter": "python",
   "pygments_lexer": "ipython2",
   "version": "2.7.16"
  }
 },
 "nbformat": 4,
 "nbformat_minor": 2
}
