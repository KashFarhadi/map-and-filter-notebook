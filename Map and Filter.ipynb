{
 "cells": [
  {
   "cell_type": "markdown",
   "metadata": {},
   "source": [
    "<p style=\"float: left;\"><a href=\"https://colab.research.google.com/github/KashFarhadi/map-and-filter-notebook/blob/master/Map%20and%20Filter.ipynb\"> <img src=\"https://colab.research.google.com/assets/colab-badge.svg\" alt=\"Open In Colab\" width=\"188\" height=\"32\" /></a></p>"
   ]
  },
  {
   "cell_type": "code",
   "execution_count": null,
   "metadata": {},
   "outputs": [],
   "source": [
    "## Add intro to Map and filter and some background information"
   ]
  },
  {
   "cell_type": "markdown",
   "metadata": {},
   "source": [
    "##### Lambda Expressions, Map and Filter"
   ]
  },
  {
   "cell_type": "markdown",
   "metadata": {},
   "source": [
    "A lambda expression is an anonymous, inline declaration of a function.<br>\n",
    "It's just like a regular function, except it can't be called outside of the line where it was defined."
   ]
  },
  {
   "cell_type": "code",
   "execution_count": 29,
   "metadata": {},
   "outputs": [
    {
     "name": "stdout",
     "output_type": "stream",
     "text": [
      "The slowest run took 43.08 times longer than the fastest. This could mean that an intermediate result is being cached.\n",
      "10000000 loops, best of 3: 134 ns per loop\n"
     ]
    }
   ],
   "source": [
    "# regular, imperative declaration\n",
    "def twice(x):\n",
    "    return 2*x\n",
    "%timeit twice(5) "
   ]
  },
  {
   "cell_type": "code",
   "execution_count": 33,
   "metadata": {},
   "outputs": [
    {
     "name": "stdout",
     "output_type": "stream",
     "text": [
      "10000000 loops, best of 3: 125 ns per loop\n"
     ]
    }
   ],
   "source": [
    "### Declaration assigning a lambda (usually bad practice)\n",
    "\n",
    "double = lambda x: 2*x\n",
    "%timeit double(5)"
   ]
  },
  {
   "cell_type": "markdown",
   "metadata": {},
   "source": [
    "## Lambda Functions:\n",
    "#### Pros\n",
    "+ Anonymous: can be easily passed without being assigned to a variable.\n",
    "+ They are inline functions and thus execute comparatively faster.\n",
    "+ Can make code much more readable by avoiding the logical jumps caused by function calls <br>\n",
    "\n",
    "Pro & Con: Can only have a single line of code.\n",
    "\n",
    "#### Cons\n",
    "- Lambda functions can have only one expression.\n",
    "- Lambda functions cannot have a docstring.\n",
    "- Many times lambda functions make code difficult to read"
   ]
  },
  {
   "cell_type": "markdown",
   "metadata": {},
   "source": [
    "## Real Life Application: Useful for for sorting keys. \n",
    "***"
   ]
  },
  {
   "cell_type": "code",
   "execution_count": 38,
   "metadata": {},
   "outputs": [],
   "source": [
    "# don't do this\n",
    "func = lambda x, y, z: x*y + z\n",
    "\n",
    "# Do this instead\n",
    "def func(x, y, z): return x*y + z "
   ]
  },
  {
   "cell_type": "markdown",
   "metadata": {},
   "source": [
    "### Key Takeaways\n",
    "- Lambdas are useful when you want to define a one-off function.<br>\n",
    "    - In other words, a function that will be used only once in your program.\n",
    "\n",
    "- Generally overused and removing them will improve readability\n",
    "- If a function is important, it deserves a name. \n",
    "\n",
    "***\n"
   ]
  },
  {
   "cell_type": "markdown",
   "metadata": {},
   "source": [
    "## The Filter Function\n",
    "\n",
    "#### Example 1"
   ]
  },
  {
   "cell_type": "code",
   "execution_count": 40,
   "metadata": {},
   "outputs": [
    {
     "name": "stdout",
     "output_type": "stream",
     "text": [
      "[5, 7, 97, 77, 23, 73, 61]\n"
     ]
    }
   ],
   "source": [
    "li = [5, 7, 22, 97, 54, 62, 77, 23, 73, 61] \n",
    "\n",
    "# filters out all list items not divisible by 2\n",
    "final_list = list(filter(lambda x: x%2, li))\n",
    "print(final_list)"
   ]
  },
  {
   "cell_type": "markdown",
   "metadata": {},
   "source": [
    "Filter returns a Generator Object (in this case a filter object) <br>\n",
    "Wrapping it into a list reveals it is equivalent to using a List Comprehension with a conditional"
   ]
  },
  {
   "cell_type": "code",
   "execution_count": 41,
   "metadata": {},
   "outputs": [
    {
     "data": {
      "text/plain": [
       "[5, 7, 97, 77, 23, 73, 61]"
      ]
     },
     "execution_count": 41,
     "metadata": {},
     "output_type": "execute_result"
    }
   ],
   "source": [
    "[x for x in li if x%2]"
   ]
  },
  {
   "cell_type": "markdown",
   "metadata": {},
   "source": [
    "### Example 2: Using filter to find palindromes in a list of strings\n"
   ]
  },
  {
   "cell_type": "code",
   "execution_count": 56,
   "metadata": {},
   "outputs": [
    {
     "name": "stdout",
     "output_type": "stream",
     "text": [
      "['geeg', 'keek', 'aa']\n"
     ]
    }
   ],
   "source": [
    "better_result = list(filter(lambda x: x == x[::-1], my_list))\n",
    "print(better_result)  "
   ]
  },
  {
   "cell_type": "code",
   "execution_count": 52,
   "metadata": {},
   "outputs": [
    {
     "name": "stdout",
     "output_type": "stream",
     "text": [
      "['geeg', 'keek', 'aa']\n"
     ]
    }
   ],
   "source": [
    " \n",
    "my_list = [\"geeks\", \"geeg\", \"keek\", \"practice\", \"aa\"] \n",
    "\n",
    "# Need to use .join to combine individual list items into a string after reversed\n",
    "result = list(filter(lambda x: (x == \"\".join(reversed(x))), my_list))  \n",
    "print(result)  \n"
   ]
  },
  {
   "cell_type": "markdown",
   "metadata": {},
   "source": [
    "### The map Function \n",
    "\n",
    "- Takes at least one function and an iterable as an argument and returns a new list that contains the list after being modified by the function.\n",
    "\n",
    "\n",
    "- In Python 2.7, Map returns a normal list.\n",
    "\n",
    "\n",
    "- In Python 3, applying map on a list will return a Generator! That  means it will generate a sequence that can be iterated on and must be cast into a list in order to be sliced or indexed."
   ]
  },
  {
   "cell_type": "markdown",
   "metadata": {},
   "source": [
    "#### Example 1: mapping with a lambda function"
   ]
  },
  {
   "cell_type": "code",
   "execution_count": 54,
   "metadata": {},
   "outputs": [
    {
     "name": "stdout",
     "output_type": "stream",
     "text": [
      "[10, 14, 44, 194, 108, 124, 154, 46, 146, 122]\n"
     ]
    }
   ],
   "source": [
    "li = [5, 7, 22, 97, 54, 62, 77, 23, 73, 61] \n",
    "final_list = map(lambda x: x*2 , li)\n",
    "print final_list"
   ]
  },
  {
   "cell_type": "markdown",
   "metadata": {},
   "source": [
    "### Example 2: ,...."
   ]
  },
  {
   "cell_type": "code",
   "execution_count": 49,
   "metadata": {},
   "outputs": [
    {
     "name": "stdout",
     "output_type": "stream",
     "text": [
      "[0, 3, 6, 9, 12]\n",
      "[0, 3, 6, 9, 12]\n",
      "[0, 3, 6, 9, 12]\n",
      "[0, 3, 6, 9, 12]\n",
      "[0, 3, 6, 9, 12]\n"
     ]
    }
   ],
   "source": [
    "def triple(a):\n",
    "    return 3*a\n",
    "\n",
    "thrice = lambda x: 3*x\n",
    "\n",
    "these = [triple(i) for i in range(5) ]\n",
    "print these\n",
    "\n",
    "are = [(lambda x: 3*x)(i) for i in range(5) ]\n",
    "print are\n",
    "\n",
    "all = [thrice(i) for i in range(5) ]\n",
    "print all\n",
    "\n",
    "# can pass in thrice and triple functions since map is a higher order function\n",
    "the = map(thrice, range(5))\n",
    "print the\n",
    "#http://localhost:8888/notebooks/Banging-Backend/Map%20and%20Filter.ipynb\n",
    "same = map(triple, range(5))\n",
    "print same"
   ]
  },
  {
   "cell_type": "markdown",
   "metadata": {},
   "source": [
    "### Example 4 Method 1: Calculating areas of a list of radii without the map function"
   ]
  },
  {
   "cell_type": "code",
   "execution_count": 60,
   "metadata": {},
   "outputs": [],
   "source": [
    "import math\n",
    "\n",
    "def area(r):\n",
    "    \"\"\"Area of a cicle with radius 'r'.\"\"\"\n",
    "    return math.pi * (r**2)"
   ]
  },
  {
   "cell_type": "code",
   "execution_count": 61,
   "metadata": {},
   "outputs": [],
   "source": [
    "radii = [2, 5, 7.1, .3, 10]"
   ]
  },
  {
   "cell_type": "code",
   "execution_count": 62,
   "metadata": {},
   "outputs": [
    {
     "data": {
      "text/plain": [
       "[12.566370614359172,\n",
       " 78.53981633974483,\n",
       " 158.36768566746147,\n",
       " 0.2827433388230814,\n",
       " 314.1592653589793]"
      ]
     },
     "execution_count": 62,
     "metadata": {},
     "output_type": "execute_result"
    }
   ],
   "source": [
    "areas = []\n",
    "for r in radii:\n",
    "    a = area(r)\n",
    "    areas.append(a)\n",
    "areas"
   ]
  },
  {
   "cell_type": "markdown",
   "metadata": {},
   "source": [
    "### Example 4 Method 2 :  Calculating areas using a map function"
   ]
  },
  {
   "cell_type": "code",
   "execution_count": 63,
   "metadata": {},
   "outputs": [
    {
     "data": {
      "text/plain": [
       "[12.566370614359172,\n",
       " 78.53981633974483,\n",
       " 158.36768566746147,\n",
       " 0.2827433388230814,\n",
       " 314.1592653589793]"
      ]
     },
     "execution_count": 63,
     "metadata": {},
     "output_type": "execute_result"
    }
   ],
   "source": [
    "map(area,radii)"
   ]
  },
  {
   "cell_type": "markdown",
   "metadata": {},
   "source": [
    "### Comparing them with list comprehensions"
   ]
  },
  {
   "cell_type": "markdown",
   "metadata": {},
   "source": [
    "#### Using lambda expressions with map and filter"
   ]
  },
  {
   "cell_type": "code",
   "execution_count": 78,
   "metadata": {},
   "outputs": [
    {
     "name": "stdout",
     "output_type": "stream",
     "text": [
      "[0, 1, 4, 9, 16, 25]\n",
      "[0, 1, 4, 9, 16, 25]\n"
     ]
    }
   ],
   "source": [
    "nums = [0, 1, 2, 3, 4, 5]\n",
    "mapped = map(lambda x: x * x, nums)\n",
    "\n",
    "# Can also put conditionals in your generator below\n",
    "no_mapped = (x * x for x in nums)\n",
    "\n",
    "print(list(mapped)) \n",
    "print(list(no_mapped)) \n"
   ]
  },
  {
   "cell_type": "markdown",
   "metadata": {},
   "source": [
    "####  Generator expressions for similar results"
   ]
  },
  {
   "cell_type": "code",
   "execution_count": 79,
   "metadata": {},
   "outputs": [
    {
     "name": "stdout",
     "output_type": "stream",
     "text": [
      "[1, 3, 5]\n",
      "[1, 3, 5]\n"
     ]
    }
   ],
   "source": [
    "no_filtered = (x for x in nums if x % 2 == 1)\n",
    "filtered = filter(lambda x: x % 2, nums)\n",
    "\n",
    "print(list(filtered))\n",
    "print(list(no_filtered)) "
   ]
  },
  {
   "cell_type": "markdown",
   "metadata": {},
   "source": [
    "Benefits of filter and map\n",
    "    + Arguably elegant and can beautify your code\n",
    "    + Arguably More Readable\n",
    "    + More readable when used with a function declaration\n",
    "    - Less readable when used with a lambda function\n",
    "    - Presents opportunity for unreadable code (when you have to use lambdas)"
   ]
  },
  {
   "cell_type": "code",
   "execution_count": null,
   "metadata": {},
   "outputs": [],
   "source": []
  }
 ],
 "metadata": {
  "kernelspec": {
   "display_name": "Python 2",
   "language": "python",
   "name": "python2"
  },
  "language_info": {
   "codemirror_mode": {
    "name": "ipython",
    "version": 2
   },
   "file_extension": ".py",
   "mimetype": "text/x-python",
   "name": "python",
   "nbconvert_exporter": "python",
   "pygments_lexer": "ipython2",
   "version": "2.7.16"
  }
 },
 "nbformat": 4,
 "nbformat_minor": 2
}
