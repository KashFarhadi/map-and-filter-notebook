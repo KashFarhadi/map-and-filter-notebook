{
 "cells": [
  {
   "cell_type": "markdown",
   "metadata": {},
   "source": [
    "##### Lambda Expressions, Map and Filter"
   ]
  },
  {
   "cell_type": "markdown",
   "metadata": {},
   "source": [
    "A lambda expression is an annonymous, inline declaration of a function. It's just like a regular function, except it can't be called outside of the line where it was defined."
   ]
  },
  {
   "cell_type": "code",
   "execution_count": 42,
   "metadata": {},
   "outputs": [
    {
     "data": {
      "text/plain": [
       "10"
      ]
     },
     "execution_count": 42,
     "metadata": {},
     "output_type": "execute_result"
    }
   ],
   "source": [
    "# regular, imperative declaration\n",
    "def twice(x):\n",
    "    return 2*x\n",
    "twice(5) "
   ]
  },
  {
   "cell_type": "code",
   "execution_count": 59,
   "metadata": {},
   "outputs": [
    {
     "data": {
      "text/plain": [
       "10"
      ]
     },
     "execution_count": 59,
     "metadata": {},
     "output_type": "execute_result"
    }
   ],
   "source": [
    "### Declaration assigning a lambda (usually bad practice)\n",
    "\n",
    "double = lambda x: 2*x\n",
    "double(5)"
   ]
  },
  {
   "cell_type": "markdown",
   "metadata": {},
   "source": [
    "### Lambda Functions:\n",
    "+ Annonymous, they can be easily passed without being assigned to a variable.\n",
    "+ They are inline functions and thus execute comparatively faster.\n",
    "+ Can make code much more readable by avoiding the logical jumps caused by function calls\n",
    "\n",
    "- Lambda functions can have only one expression.\n",
    "- Lambda functions cannot have a docstring.\n",
    "- Many times lambda functions make code difficult to read"
   ]
  },
  {
   "cell_type": "code",
   "execution_count": null,
   "metadata": {},
   "outputs": [],
   "source": [
    "func = lambda x, y, z: x*y + z\n",
    "Instead, it is recommended to write a one-liner function as,\n",
    "\n",
    "def func(x, y, z): return x*y + z "
   ]
  },
  {
   "cell_type": "markdown",
   "metadata": {},
   "source": [
    "Filter returns a Generator (in this case a filter object)\n",
    "Casting it to a list reveals it is equivalent to using an if in a List Comprehension."
   ]
  },
  {
   "cell_type": "code",
   "execution_count": 61,
   "metadata": {},
   "outputs": [
    {
     "name": "stdout",
     "output_type": "stream",
     "text": [
      "[5, 7, 97, 77, 23, 73, 61]\n"
     ]
    }
   ],
   "source": [
    "li = [5, 7, 22, 97, 54, 62, 77, 23, 73, 61] \n",
    "final_list = list(filter(lambda x: (x%2 !=0), li))\n",
    "print(final_list)"
   ]
  },
  {
   "cell_type": "markdown",
   "metadata": {},
   "source": [
    "The map function takes at least one function and a list as an argument and returns a new list that constained the list after being modified by the function.\n",
    "\n",
    "In Python 2.7, Map returns a normal list  \n",
    "\n",
    "in Python 3, applying map on a list will return a Generator! \n",
    "That basically means it will generate a sequence that can be iterated on and must be cast into a list in order to be sliced or indexed."
   ]
  },
  {
   "cell_type": "code",
   "execution_count": 62,
   "metadata": {},
   "outputs": [
    {
     "name": "stdout",
     "output_type": "stream",
     "text": [
      "[10, 14, 44, 194, 108, 124, 154, 46, 146, 122]\n"
     ]
    }
   ],
   "source": [
    "li = [5, 7, 22, 97, 54, 62, 77, 23, 73, 61] \n",
    "final_list = list(map(lambda x: x*2 , li)) \n",
    "print final_list"
   ]
  },
  {
   "cell_type": "code",
   "execution_count": 58,
   "metadata": {},
   "outputs": [
    {
     "name": "stdout",
     "output_type": "stream",
     "text": [
      "[0, 3, 6, 9, 12]\n",
      "[0, 3, 6, 9, 12]\n",
      "[0, 3, 6, 9, 12]\n",
      "[0, 3, 6, 9, 12]\n",
      "[0, 3, 6, 9, 12]\n"
     ]
    }
   ],
   "source": [
    "def triple(a):\n",
    "    return 3*a\n",
    "\n",
    "thrice = lambda x: 3*x\n",
    "\n",
    "these = [triple(i) for i in range(5) ]\n",
    "print these\n",
    "are = [(lambda x: 3*x)(i) for i in range(5) ]\n",
    "print are\n",
    "all = [thrice(i) for i in range(5) ]\n",
    "print all\n",
    "\n",
    "# can pass in thrice and triple functions since map is a higher order function\n",
    "the = map(thrice, range(5))\n",
    "print thehttp://localhost:8888/notebooks/Banging-Backend/Map%20and%20Filter.ipynb#\n",
    "same = map(triple, range(5))\n",
    "print same"
   ]
  },
  {
   "cell_type": "code",
   "execution_count": 63,
   "metadata": {},
   "outputs": [
    {
     "name": "stdout",
     "output_type": "stream",
     "text": [
      "['geeg', 'keek', 'aa']\n"
     ]
    }
   ],
   "source": [
    "# Python Program using map to find palindromes in a list of strings\n",
    " \n",
    "my_list = [\"geeks\", \"geeg\", \"keek\", \"practice\", \"aa\"] \n",
    "result = list(filter(lambda x: (x == \"\".join(reversed(x))), my_list))  \n",
    "print(result)  \n"
   ]
  },
  {
   "cell_type": "code",
   "execution_count": 51,
   "metadata": {},
   "outputs": [],
   "source": [
    "import math"
   ]
  },
  {
   "cell_type": "code",
   "execution_count": 36,
   "metadata": {},
   "outputs": [],
   "source": [
    "def area (r):\n",
    "    \"\"\"Area of a cicle with radiu 'r'.\"\"\"\n",
    "    return math.pi * (r**2)"
   ]
  },
  {
   "cell_type": "code",
   "execution_count": 37,
   "metadata": {},
   "outputs": [],
   "source": [
    "radii = [2, 5, 7.1, .3, 10]"
   ]
  },
  {
   "cell_type": "code",
   "execution_count": 39,
   "metadata": {},
   "outputs": [
    {
     "data": {
      "text/plain": [
       "[12.566370614359172,\n",
       " 78.53981633974483,\n",
       " 158.36768566746147,\n",
       " 0.2827433388230814,\n",
       " 314.1592653589793]"
      ]
     },
     "execution_count": 39,
     "metadata": {},
     "output_type": "execute_result"
    }
   ],
   "source": [
    "areas = []\n",
    "for r in radii:\n",
    "    a = area(r)\n",
    "    areas.append(a)\n",
    "areas"
   ]
  },
  {
   "cell_type": "markdown",
   "metadata": {},
   "source": [
    "### Method 2 : Use 'map' function"
   ]
  },
  {
   "cell_type": "markdown",
   "metadata": {},
   "source": [
    "### Comparing them with list comprehensions"
   ]
  },
  {
   "cell_type": "code",
   "execution_count": 67,
   "metadata": {},
   "outputs": [
    {
     "name": "stdout",
     "output_type": "stream",
     "text": [
      "[0, 1, 4, 9, 16, 25]\n",
      "[1, 3, 5]\n"
     ]
    }
   ],
   "source": [
    "# Using lambda expressions with map and filter\n",
    "nums = [0, 1, 2, 3, 4, 5]\n",
    "mapped = map(lambda x: x * x, nums)\n",
    "filtered = filter(lambda x: x % 2, nums)\n",
    "print(list(mapped)) \n",
    "print(list(filtered)) "
   ]
  },
  {
   "cell_type": "code",
   "execution_count": 69,
   "metadata": {},
   "outputs": [
    {
     "name": "stdout",
     "output_type": "stream",
     "text": [
      "[0, 1, 4, 9, 16, 25]\n",
      "[1, 3, 5]\n"
     ]
    }
   ],
   "source": [
    "# Generator expressions for similar results\n",
    "nums = [0, 1, 2, 3, 4, 5]\n",
    "mapped = (x * x for x in nums)\n",
    "filtered = (x for x in nums if x % 2 == 1)\n",
    "print(list(mapped))\n",
    "print(list(filtered))"
   ]
  },
  {
   "cell_type": "markdown",
   "metadata": {},
   "source": [
    "Benefits of filter and map\n",
    "    + More elegant and can pretty up your code\n",
    "    - Seen as less pythonic in some cases\n",
    "    - Presents opportunity for unreadable code "
   ]
  }
 ],
 "metadata": {
  "kernelspec": {
   "display_name": "Python 2",
   "language": "python",
   "name": "python2"
  },
  "language_info": {
   "codemirror_mode": {
    "name": "ipython",
    "version": 2
   },
   "file_extension": ".py",
   "mimetype": "text/x-python",
   "name": "python",
   "nbconvert_exporter": "python",
   "pygments_lexer": "ipython2",
   "version": "2.7.16"
  }
 },
 "nbformat": 4,
 "nbformat_minor": 2
}
